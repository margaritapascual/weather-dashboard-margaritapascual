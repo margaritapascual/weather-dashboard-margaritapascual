{
 "cells": [
  {
   "cell_type": "markdown",
   "id": "7e784488",
   "metadata": {},
   "source": [
    "import os\n",
    "\n",
    "# 1. Print your current working directory\n",
    "print(\"Notebook is running from:\", os.getcwd())\n",
    "\n",
    "# 2. Build the path to your “Team Data” folder\n",
    "DATA_DIR = os.path.join(os.getcwd(), \"Team Data\")\n",
    "print(\"Looking for CSVs in:\", DATA_DIR)\n",
    "\n",
    "# 3. List what’s in there\n",
    "files = [f for f in os.listdir(DATA_DIR) if f.endswith(\".csv\")]\n",
    "print(\"Found CSV files:\", files)\n",
    "\n",
    "# Keep this list for the next cell\n",
    "csvs = [os.path.join(DATA_DIR, f) for f in files]\n",
    "\n"
   ]
  },
  {
   "cell_type": "code",
   "execution_count": 1,
   "id": "e1c247ed",
   "metadata": {},
   "outputs": [
    {
     "ename": "NameError",
     "evalue": "name 'os' is not defined",
     "output_type": "error",
     "traceback": [
      "\u001b[31m---------------------------------------------------------------------------\u001b[39m",
      "\u001b[31mNameError\u001b[39m                                 Traceback (most recent call last)",
      "\u001b[36mCell\u001b[39m\u001b[36m \u001b[39m\u001b[32mIn[1]\u001b[39m\u001b[32m, line 4\u001b[39m\n\u001b[32m      1\u001b[39m \u001b[38;5;66;03m# 2) Gather all CSV files in that directory\u001b[39;00m\n\u001b[32m      2\u001b[39m all_files = [\n\u001b[32m      3\u001b[39m     os.path.join(DATA_DIR, f)\n\u001b[32m----> \u001b[39m\u001b[32m4\u001b[39m     \u001b[38;5;28;01mfor\u001b[39;00m f \u001b[38;5;129;01min\u001b[39;00m \u001b[43mos\u001b[49m.listdir(DATA_DIR)\n\u001b[32m      5\u001b[39m     \u001b[38;5;28;01mif\u001b[39;00m f.endswith(\u001b[33m\"\u001b[39m\u001b[33m.csv\u001b[39m\u001b[33m\"\u001b[39m)\n\u001b[32m      6\u001b[39m ]\n\u001b[32m      7\u001b[39m \u001b[38;5;28;01mif\u001b[39;00m \u001b[38;5;28mlen\u001b[39m(all_files) < \u001b[32m2\u001b[39m:\n\u001b[32m      8\u001b[39m     \u001b[38;5;28;01mraise\u001b[39;00m \u001b[38;5;167;01mRuntimeError\u001b[39;00m(\u001b[33m\"\u001b[39m\u001b[33mNeed at least two CSV files in Team Data folder\u001b[39m\u001b[33m\"\u001b[39m)\n",
      "\u001b[31mNameError\u001b[39m: name 'os' is not defined"
     ]
    }
   ],
   "source": [
    "# 2) Gather all CSV files in that directory\n",
    "all_files = [\n",
    "    os.path.join(DATA_DIR, f)\n",
    "    for f in os.listdir(DATA_DIR)\n",
    "    if f.endswith(\".csv\")\n",
    "]\n",
    "if len(all_files) < 2:\n",
    "    raise RuntimeError(\"Need at least two CSV files in Team Data folder\")\n"
   ]
  },
  {
   "cell_type": "code",
   "execution_count": null,
   "id": "92385c43",
   "metadata": {},
   "outputs": [],
   "source": [
    "# 3) Pick two different files at random\n",
    "file1, file2 = random.sample(all_files, 2)\n",
    "print(\"Comparing:\\n •\", os.path.basename(file1), \"\\n •\", os.path.basename(file2))\n",
    "\n"
   ]
  },
  {
   "cell_type": "code",
   "execution_count": null,
   "id": "483f96d3",
   "metadata": {},
   "outputs": [],
   "source": [
    "# 4) Load each and sample one random row\n",
    "df1 = pd.read_csv(file1)\n",
    "df2 = pd.read_csv(file2)\n",
    "\n",
    "row1 = df1.sample(1).iloc[0]\n",
    "row2 = df2.sample(1).iloc[0]\n"
   ]
  },
  {
   "cell_type": "code",
   "execution_count": null,
   "id": "693f7753",
   "metadata": {},
   "outputs": [],
   "source": [
    "# 5) Display what we picked\n",
    "display(pd.DataFrame([row1, row2]))\n"
   ]
  },
  {
   "cell_type": "code",
   "execution_count": null,
   "id": "f04de73c",
   "metadata": {},
   "outputs": [],
   "source": [
    "# 6) A simple recommendation engine\n",
    "def recommend(city_name, weather_row):\n",
    "    \"\"\"\n",
    "    Very basic rules:\n",
    "    - If there's any mention of rain or precip > 20%, suggest an umbrella or indoor.\n",
    "    - Else if temp between 60 and 85°F and clear, suggest outdoor activity.\n",
    "    - Otherwise, generic advice.\n",
    "    \"\"\"\n",
    "    desc = weather_row.get(\"weather\", \"\").lower()\n",
    "    pop = float(weather_row.get(\"pop\", 0)) * 100  # if pop is in [0,1]\n",
    "    temp = float(weather_row.get(\"temp\", weather_row.get(\"temperature\", 0)))\n",
    "\n",
    "    if \"rain\" in desc or pop > 20:\n",
    "        return f\"{city_name}: It’s wet ({pop:.0f}% precip). Carry an umbrella or visit a museum!\"\n",
    "    if 60 <= temp <= 85 and (\"clear\" in desc or \"sun\" in desc):\n",
    "        return f\"{city_name}: Beautiful day at {temp:.0f}°F. How about a park or outdoor café?\"\n",
    "    return f\"{city_name}: Typical weather at {temp:.0f}°F. Dress comfortably and enjoy!\"\n"
   ]
  },
  {
   "cell_type": "code",
   "execution_count": null,
   "id": "23c7e8d5",
   "metadata": {},
   "outputs": [],
   "source": [
    "# 7) Run recommendations for both cities\n",
    "city1 = os.path.splitext(os.path.basename(file1))[0]\n",
    "city2 = os.path.splitext(os.path.basename(file2))[0]\n",
    "\n",
    "print(recommend(city1, row1))\n",
    "print(recommend(city2, row2))\n"
   ]
  }
 ],
 "metadata": {
  "kernelspec": {
   "display_name": "Python 3",
   "language": "python",
   "name": "python3"
  },
  "language_info": {
   "codemirror_mode": {
    "name": "ipython",
    "version": 3
   },
   "file_extension": ".py",
   "mimetype": "text/x-python",
   "name": "python",
   "nbconvert_exporter": "python",
   "pygments_lexer": "ipython3",
   "version": "3.13.3"
  }
 },
 "nbformat": 4,
 "nbformat_minor": 5
}
